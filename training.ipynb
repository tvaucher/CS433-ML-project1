{
 "cells": [
  {
   "cell_type": "code",
   "execution_count": 33,
   "metadata": {},
   "outputs": [
    {
     "name": "stdout",
     "output_type": "stream",
     "text": [
      "The autoreload extension is already loaded. To reload it, use:\n",
      "  %reload_ext autoreload\n"
     ]
    }
   ],
   "source": [
    "%matplotlib inline\n",
    "\n",
    "import numpy as np\n",
    "import matplotlib.pyplot as plt\n",
    "%load_ext autoreload\n",
    "%autoreload 2"
   ]
  },
  {
   "cell_type": "code",
   "execution_count": 331,
   "metadata": {},
   "outputs": [],
   "source": [
    "from preprocessing import load_csv_data, remove_na_columns, remove_low_variance_features,\\\n",
    "    remove_correlated_features, z_normalize_data, augment_features_polynomial_basis, split_data_by_categorical_column, min_max_normalize_data"
   ]
  },
  {
   "cell_type": "code",
   "execution_count": 425,
   "metadata": {},
   "outputs": [],
   "source": [
    "def preprocessing(data, *, nan_value=-999., low_var_threshold=0.1, corr_threshold=0.85, deg=3):\n",
    "    data = data.copy()\n",
    "    data[data == nan_value] = np.nan\n",
    "    data = remove_na_columns(data)\n",
    "    # data = remove_low_variance_features(data, low_var_threshold)\n",
    "    data = remove_correlated_features(data, corr_threshold)\n",
    "    data = z_normalize_data(data)\n",
    "    data[np.isnan(data)] = 0.\n",
    "    data = augment_features_polynomial_basis(data, deg)\n",
    "    return data"
   ]
  },
  {
   "cell_type": "code",
   "execution_count": 338,
   "metadata": {},
   "outputs": [],
   "source": [
    "PRI_JET_NUM_INDEX = 22\n",
    "SEED = 2019"
   ]
  },
  {
   "cell_type": "code",
   "execution_count": null,
   "metadata": {},
   "outputs": [],
   "source": [
    "train_classes, train_data, train_ids = load_csv_data(\"data/train.csv\")\n",
    "#test_classes, test_data, test_ids = load_csv_data(\"data/test.csv\")\n",
    "\n",
    "train_classes_jet_num_splits, train_data_jet_num_splits, train_ids_jet_num_splits = \\\n",
    "    split_data_by_categorical_column(train_classes,\n",
    "                                     train_data,\n",
    "                                     train_ids,\n",
    "                                     PRI_JET_NUM_INDEX)"
   ]
  },
  {
   "cell_type": "code",
   "execution_count": 454,
   "metadata": {},
   "outputs": [],
   "source": [
    "from implementations import reg_logistic_regression, svm, ridge_regression\n",
    "from helpers import compute_loss_nll, predict_labels, compute_accuracy, compute_loss\n",
    "from cross_validation import k_fold_cross_split_data"
   ]
  },
  {
   "cell_type": "code",
   "execution_count": null,
   "metadata": {},
   "outputs": [],
   "source": []
  },
  {
   "cell_type": "code",
   "execution_count": 456,
   "metadata": {},
   "outputs": [
    {
     "name": "stdout",
     "output_type": "stream",
     "text": [
      "0 0 0\n",
      "0 0 1\n",
      "0 0 2\n",
      "0 0 3\n",
      "0 0 4\n",
      "0 1 0\n",
      "0 1 1\n",
      "0 1 2\n",
      "0 1 3\n",
      "0 1 4\n",
      "0 2 0\n",
      "0 2 1\n",
      "0 2 2\n",
      "0 2 3\n",
      "0 2 4\n",
      "0 3 0\n",
      "0 3 1\n",
      "0 3 2\n",
      "0 3 3\n",
      "0 3 4\n",
      "0 4 0\n",
      "0 4 1\n",
      "0 4 2\n",
      "0 4 3\n",
      "0 4 4\n",
      "0 5 0\n",
      "0 5 1\n",
      "0 5 2\n",
      "0 5 3\n",
      "0 5 4\n",
      "0 6 0\n",
      "0 6 1\n",
      "0 6 2\n",
      "0 6 3\n",
      "0 6 4\n",
      "1 0 0\n",
      "1 0 1\n",
      "1 0 2\n",
      "1 0 3\n",
      "1 0 4\n",
      "1 1 0\n",
      "1 1 1\n",
      "1 1 2\n",
      "1 1 3\n",
      "1 1 4\n",
      "1 2 0\n",
      "1 2 1\n",
      "1 2 2\n",
      "1 2 3\n",
      "1 2 4\n",
      "1 3 0\n",
      "1 3 1\n",
      "1 3 2\n",
      "1 3 3\n",
      "1 3 4\n",
      "1 4 0\n",
      "1 4 1\n",
      "1 4 2\n",
      "1 4 3\n",
      "1 4 4\n",
      "1 5 0\n",
      "1 5 1\n",
      "1 5 2\n",
      "1 5 3\n",
      "1 5 4\n",
      "1 6 0\n",
      "1 6 1\n",
      "1 6 2\n",
      "1 6 3\n",
      "1 6 4\n",
      "2 0 0\n",
      "2 0 1\n",
      "2 0 2\n",
      "2 0 3\n",
      "2 0 4\n",
      "2 1 0\n",
      "2 1 1\n",
      "2 1 2\n",
      "2 1 3\n",
      "2 1 4\n",
      "2 2 0\n",
      "2 2 1\n",
      "2 2 2\n",
      "2 2 3\n",
      "2 2 4\n",
      "2 3 0\n",
      "2 3 1\n",
      "2 3 2\n",
      "2 3 3\n",
      "2 3 4\n",
      "2 4 0\n",
      "2 4 1\n",
      "2 4 2\n",
      "2 4 3\n",
      "2 4 4\n",
      "2 5 0\n",
      "2 5 1\n",
      "2 5 2\n",
      "2 5 3\n",
      "2 5 4\n",
      "2 6 0\n",
      "2 6 1\n",
      "2 6 2\n",
      "2 6 3\n",
      "2 6 4\n",
      "3 0 0\n",
      "3 0 1\n",
      "3 0 2\n",
      "3 0 3\n",
      "3 0 4\n",
      "3 1 0\n",
      "3 1 1\n",
      "3 1 2\n",
      "3 1 3\n",
      "3 1 4\n",
      "3 2 0\n",
      "3 2 1\n",
      "3 2 2\n",
      "3 2 3\n",
      "3 2 4\n",
      "3 3 0\n",
      "3 3 1\n",
      "3 3 2\n",
      "3 3 3\n",
      "3 3 4\n",
      "3 4 0\n",
      "3 4 1\n",
      "3 4 2\n",
      "3 4 3\n",
      "3 4 4\n",
      "3 5 0\n",
      "3 5 1\n",
      "3 5 2\n",
      "3 5 3\n",
      "3 5 4\n",
      "3 6 0\n",
      "3 6 1\n",
      "3 6 2\n",
      "3 6 3\n",
      "3 6 4\n"
     ]
    }
   ],
   "source": [
    "POSSIBLE_LAMBDA_VALUES = np.logspace(-5, -2, 5)\n",
    "POSSIBLE_DEGREES = np.arange(1, 8)\n",
    "grid_shape = (4, len(POSSIBLE_DEGREES), len(POSSIBLE_LAMBDA_VALUES), 2)\n",
    "\n",
    "train_loss_matrix = np.zeros(grid_shape)\n",
    "validation_loss_matrix = np.zeros(grid_shape)\n",
    "\n",
    "for jet_num, (train_classes_split, train_data_split) in enumerate(zip(train_classes_jet_num_splits, train_data_jet_num_splits)):\n",
    "    for i, deg in enumerate(POSSIBLE_DEGREES):\n",
    "        train_data_split = preprocessing(train_data_split, deg=deg)\n",
    "        train_set_folds = k_fold_cross_split_data(train_classes_split, train_data_split, 10, SEED)\n",
    "        for j, lambda_ in enumerate(POSSIBLE_LAMBDA_VALUES): #tqdm_notebook\n",
    "            print(jet_num, i, j)\n",
    "            folds_train_losses = []\n",
    "            folds_validation_losses = []\n",
    "            for x_train, y_train, x_test, y_test in train_set_folds:\n",
    "                w, train_loss = ridge_regression(y_train, x_train, lambda_)\n",
    "                folds_train_losses.append(train_loss)\n",
    "                validation_loss = compute_loss(y_test, x_test, w)\n",
    "                folds_validation_losses.append(validation_loss)\n",
    "            train_loss_matrix[jet_num, i, j] = (np.mean(folds_train_losses), np.std(folds_train_losses))\n",
    "            validation_loss_matrix[jet_num, i, j] = (np.mean(folds_validation_losses), np.std(folds_validation_losses))"
   ]
  },
  {
   "cell_type": "code",
   "execution_count": 465,
   "metadata": {},
   "outputs": [],
   "source": [
    "def plot_grid_search_results(loss_array, lambdas, degrees):\n",
    "    plt.figure(figsize=(8,10))\n",
    "    plt.imshow(np.log(loss_array))\n",
    "    plt.colorbar(orientation='horizontal')\n",
    "    plt.xticks(np.arange(degrees.shape[0]), degrees, rotation=20)\n",
    "    plt.yticks(np.arange(lambdas.shape[0]), lambdas, rotation=20)\n",
    "    plt.xlabel('degree')\n",
    "    plt.ylabel('lambda')\n",
    "    plt.title('Validation loss for different lambda and degree')\n",
    "    plt.show()"
   ]
  },
  {
   "cell_type": "code",
   "execution_count": 434,
   "metadata": {},
   "outputs": [],
   "source": [
    "def find_best_hyperparameters(error_values, lambdas, degrees):\n",
    "    \"\"\" A function which finds the hyperparameters that give the lowest error\n",
    "        \n",
    "    Args:\n",
    "        error_values (np.array) Cross-validation error values of all different \n",
    "        combinations of hyperparameters.\n",
    "        lambdas (np.array): Array of different regularization coefficients to try.\n",
    "        degrees (np.array): Array of different degrees coefficients to try for \n",
    "        feature expansion.\n",
    "\n",
    "    Returns:\n",
    "        (float), (int): Lambda and degree combination that result in lowest error\n",
    "    \"\"\"    \n",
    "    #######################################\n",
    "    # Please fill in the required code here\n",
    "    best_lmbda, best_deg = np.unravel_index(np.argmin(error_values), error_values.shape)\n",
    "    # Extract the lambda and degree resulting in the lowest error.\n",
    "    degree_best = degrees[best_deg]\n",
    "    lambda_best = lambdas[best_lmbda]\n",
    "    \n",
    "    #######################################\n",
    "    return lambda_best, degree_best"
   ]
  },
  {
   "cell_type": "code",
   "execution_count": 480,
   "metadata": {},
   "outputs": [
    {
     "data": {
      "text/plain": [
       "[(1e-05, 1),\n",
       " (0.00031622776601683794, 5),\n",
       " (5.623413251903491e-05, 4),\n",
       " (5.623413251903491e-05, 3)]"
      ]
     },
     "execution_count": 480,
     "metadata": {},
     "output_type": "execute_result"
    }
   ],
   "source": [
    "best_hyper = [find_best_hyperparameters(validation_loss_matrix[i, :, :, 0], POSSIBLE_LAMBDA_VALUES, POSSIBLE_DEGREES) for i in range(4)]\n",
    "best_hyper"
   ]
  },
  {
   "cell_type": "code",
   "execution_count": 443,
   "metadata": {},
   "outputs": [],
   "source": [
    "cpy2 = train_loss_matrix.copy()\n",
    "cpy2[cpy2>1] = 1"
   ]
  },
  {
   "cell_type": "code",
   "execution_count": 479,
   "metadata": {},
   "outputs": [
    {
     "data": {
      "text/plain": [
       "array([[[2.93325923e-01, 5.28934407e-03],\n",
       "        [2.93327774e-01, 5.29124088e-03],\n",
       "        [2.93338367e-01, 5.30206311e-03],\n",
       "        [2.93403035e-01, 5.36703778e-03],\n",
       "        [2.93860501e-01, 5.76648135e-03]],\n",
       "\n",
       "       [[1.93004210e+00, 4.93027848e+00],\n",
       "        [1.92590140e+00, 4.91785324e+00],\n",
       "        [1.90278085e+00, 4.84847224e+00],\n",
       "        [1.77797546e+00, 4.47390395e+00],\n",
       "        [1.22684088e+00, 2.81925756e+00]],\n",
       "\n",
       "       [[3.87489901e+07, 1.16246642e+08],\n",
       "        [1.22129610e+06, 3.66356075e+06],\n",
       "        [3.29129335e+04, 9.84172601e+04],\n",
       "        [2.35512608e+02, 4.89282146e+02],\n",
       "        [1.36623448e+03, 3.93006048e+03]],\n",
       "\n",
       "       [[6.04366213e+11, 1.81287555e+12],\n",
       "        [2.02636691e+11, 6.07688112e+11],\n",
       "        [1.79092975e+11, 5.37055826e+11],\n",
       "        [9.95084022e+10, 2.98289554e+11],\n",
       "        [1.41897275e+10, 4.23224250e+10]],\n",
       "\n",
       "       [[6.99136813e+11, 2.09738334e+12],\n",
       "        [6.94065032e+11, 2.08219398e+12],\n",
       "        [6.69946673e+11, 2.00983987e+12],\n",
       "        [5.46468213e+11, 1.63940457e+12],\n",
       "        [1.82417023e+11, 5.47251038e+11]],\n",
       "\n",
       "       [[7.14680877e+07, 2.14404219e+08],\n",
       "        [7.12019188e+07, 2.13605717e+08],\n",
       "        [6.98873347e+07, 2.09661947e+08],\n",
       "        [6.11980261e+07, 1.83594002e+08],\n",
       "        [2.71874360e+07, 8.15622456e+07]],\n",
       "\n",
       "       [[2.46431386e+24, 7.39294157e+24],\n",
       "        [5.16072184e+23, 1.54821655e+24],\n",
       "        [3.46231877e+23, 1.03869563e+24],\n",
       "        [2.43034925e+23, 7.29104776e+23],\n",
       "        [9.03209579e+21, 2.70962874e+22]]])"
      ]
     },
     "execution_count": 479,
     "metadata": {},
     "output_type": "execute_result"
    }
   ],
   "source": [
    "validation_loss_matrix[0, :, :]"
   ]
  },
  {
   "cell_type": "code",
   "execution_count": 475,
   "metadata": {},
   "outputs": [
    {
     "data": {
      "image/png": "[encoded data removed]",
      "text/plain": [
       "<Figure size 576x720 with 2 Axes>"
      ]
     },
     "metadata": {
      "needs_background": "light"
     },
     "output_type": "display_data"
    }
   ],
   "source": [
    "plot_grid_search_results(train_loss_matrix[0, :, :, 0], POSSIBLE_LAMBDA_VALUES, POSSIBLE_DEGREES)"
   ]
  },
  {
   "cell_type": "code",
   "execution_count": 481,
   "metadata": {},
   "outputs": [
    {
     "name": "stdout",
     "output_type": "stream",
     "text": [
      "(15,)\n",
      "Loss: 0.292 Accuracy : 0.7988550038533524\n",
      "(76,)\n",
      "Loss: 0.331 Accuracy : 0.7685829980398226\n",
      "(85,)\n",
      "Loss: 0.312 Accuracy : 0.7914805772246373\n",
      "(67,)\n",
      "Loss: 0.329 Accuracy : 0.7693105937556398\n"
     ]
    }
   ],
   "source": [
    "models = []\n",
    "for (lambda_, deg), train_classes_split, train_data_split in zip(best_hyper, train_classes_jet_num_splits, train_data_jet_num_splits):\n",
    "    data_split = preprocessing(train_data_split, deg=deg)\n",
    "    initial_w = np.zeros((data_split.shape[1],))\n",
    "    print(initial_w.shape)\n",
    "    w, loss = ridge_regression(train_classes_split, data_split, lambda_)\n",
    "    print(f'Loss: {loss:.3f} Accuracy : {compute_accuracy(predict_labels(w, data_split), train_classes_split)}')\n",
    "    # w, loss = reg_logistic_regression(train_classes_split, data_split, 1e-3, initial_w, 1001, 1e-5)\n",
    "    # w, loss = svm(train_classes_split, data_split, 1e-3, initial_w, 1001, 1e-5)#5e-8)\n",
    "    #print(w, loss)\n",
    "    models.append((w, loss))"
   ]
  },
  {
   "cell_type": "code",
   "execution_count": 440,
   "metadata": {},
   "outputs": [],
   "source": [
    "cpy = validation_loss_matrix.copy()\n",
    "cpy[cpy>1] = 1"
   ]
  },
  {
   "cell_type": "code",
   "execution_count": 441,
   "metadata": {},
   "outputs": [
    {
     "data": {
      "image/png": "[encoded data removed]",
      "text/plain": [
       "<Figure size 576x720 with 2 Axes>"
      ]
     },
     "metadata": {
      "needs_background": "light"
     },
     "output_type": "display_data"
    }
   ],
   "source": [
    "plot_grid_search_results(cpy[:, :, 0], POSSIBLE_LAMBDA_VALUES, POSSIBLE_DEGREES)"
   ]
  },
  {
   "cell_type": "code",
   "execution_count": 424,
   "metadata": {},
   "outputs": [
    {
     "name": "stdout",
     "output_type": "stream",
     "text": [
      "i 1\n",
      "(19,)\n",
      "Loss: 0.272 Accuracy : 0.8168806861969914\n",
      "(23,)\n",
      "Loss: 0.373 Accuracy : 0.7103708862065408\n",
      "(30,)\n",
      "Loss: 0.355 Accuracy : 0.7339566089045039\n",
      "(30,)\n",
      "Loss: 0.359 Accuracy : 0.7228388377549179\n",
      "i 2\n",
      "(37,)\n",
      "Loss: 0.253 Accuracy : 0.8256983575710869\n",
      "(45,)\n",
      "Loss: 0.339 Accuracy : 0.7560610750025791\n",
      "(59,)\n",
      "Loss: 0.323 Accuracy : 0.7764941741598682\n",
      "(59,)\n",
      "Loss: 0.332 Accuracy : 0.759565060458401\n",
      "i 3\n",
      "(55,)\n",
      "Loss: 0.245 Accuracy : 0.8297819102619278\n",
      "(67,)\n",
      "Loss: 0.330 Accuracy : 0.7657458991024451\n",
      "(88,)\n",
      "Loss: 0.304 Accuracy : 0.7965620595883205\n",
      "(88,)\n",
      "Loss: 0.312 Accuracy : 0.791238043674427\n",
      "i 4\n",
      "(73,)\n",
      "Loss: 0.241 Accuracy : 0.8325643309679421\n",
      "(89,)\n",
      "Loss: 0.322 Accuracy : 0.7765010832559579\n",
      "(117,)\n",
      "Loss: 0.296 Accuracy : 0.8060302903987773\n",
      "(117,)\n",
      "Loss: 0.303 Accuracy : 0.8023822414726584\n",
      "i 5\n",
      "(91,)\n",
      "Loss: 0.238 Accuracy : 0.8367579794421146\n",
      "(111,)\n",
      "Loss: 0.318 Accuracy : 0.780434334055504\n",
      "(146,)\n",
      "Loss: 0.292 Accuracy : 0.8090275710117311\n",
      "(146,)\n",
      "Loss: 0.301 Accuracy : 0.8044125609095831\n",
      "i 6\n",
      "(109,)\n",
      "Loss: 0.237 Accuracy : 0.8384494510223894\n",
      "(133,)\n",
      "Loss: 0.313 Accuracy : 0.7846899824615702\n",
      "(175,)\n",
      "Loss: 0.286 Accuracy : 0.8123027451914488\n",
      "(175,)\n",
      "Loss: 0.297 Accuracy : 0.8055856343620286\n",
      "i 7\n",
      "(127,)\n",
      "Loss: 0.235 Accuracy : 0.8401509313102399\n",
      "(155,)\n",
      "Loss: 0.307 Accuracy : 0.7922082946456206\n",
      "(204,)\n",
      "Loss: 0.275 Accuracy : 0.8209372953016137\n",
      "(204,)\n",
      "Loss: 0.284 Accuracy : 0.8134362028514709\n",
      "i 8\n",
      "(145,)\n",
      "Loss: 0.233 Accuracy : 0.8425129862980794\n",
      "(177,)\n",
      "Loss: 0.299 Accuracy : 0.7989528525740225\n",
      "(233,)\n",
      "Loss: 0.264 Accuracy : 0.8307826673812502\n",
      "(233,)\n",
      "Loss: 0.272 Accuracy : 0.8249864645370871\n",
      "i 9\n",
      "(163,)\n",
      "Loss: 0.231 Accuracy : 0.842983395554132\n",
      "(199,)\n",
      "Loss: 0.295 Accuracy : 0.8028474156607861\n",
      "(262,)\n",
      "Loss: 0.259 Accuracy : 0.8333631076440581\n",
      "(262,)\n",
      "Loss: 0.267 Accuracy : 0.8308067135896048\n",
      "i 10\n",
      "(181,)\n",
      "Loss: 14.920 Accuracy : 0.550919299790818\n",
      "(221,)\n",
      "Loss: 0.293 Accuracy : 0.8030150624161766\n",
      "(291,)\n",
      "Loss: 0.259 Accuracy : 0.8338196470751702\n",
      "(291,)\n",
      "Loss: 0.266 Accuracy : 0.8313932503158274\n",
      "i 11\n",
      "(199,)\n",
      "Loss: 0.232 Accuracy : 0.8432636393662486\n",
      "(243,)\n",
      "Loss: 0.291 Accuracy : 0.804459403693387\n",
      "(320,)\n",
      "Loss: 0.257 Accuracy : 0.8346731773159451\n",
      "(320,)\n",
      "Loss: 0.264 Accuracy : 0.8334235697527522\n"
     ]
    }
   ],
   "source": [
    "models = []\n",
    "for i in range(1, 12):\n",
    "    print('i', i)\n",
    "    for train_classes_split, train_data_split in zip(train_classes_jet_num_splits, train_data_jet_num_splits):\n",
    "        data_split = preprocessing(train_data_split, deg=i)\n",
    "        initial_w = np.zeros((data_split.shape[1],))\n",
    "        print(initial_w.shape)\n",
    "        w, loss = ridge_regression(train_classes_split, data_split, 1e-4)\n",
    "        print(f'Loss: {loss:.3f} Accuracy : {compute_accuracy(predict_labels(w, data_split), train_classes_split)}')\n",
    "        # w, loss = reg_logistic_regression(train_classes_split, data_split, 1e-3, initial_w, 1001, 1e-5)\n",
    "        # w, loss = svm(train_classes_split, data_split, 1e-3, initial_w, 1001, 1e-5)#5e-8)\n",
    "        #print(w, loss)\n",
    "        models.append((w, loss))"
   ]
  },
  {
   "cell_type": "code",
   "execution_count": 410,
   "metadata": {},
   "outputs": [
    {
     "name": "stdout",
     "output_type": "stream",
     "text": [
      "i 1\n",
      "(17,)\n",
      "Loss: 0.292 Accuracy : 0.80194769449421\n",
      "(19,)\n",
      "Loss: 0.383 Accuracy : 0.7023109460435366\n",
      "(25,)\n",
      "Loss: 0.362 Accuracy : 0.7277635522737649\n",
      "(26,)\n",
      "Loss: 0.366 Accuracy : 0.7195903266558383\n",
      "i 2\n",
      "(33,)\n",
      "Loss: 0.265 Accuracy : 0.8162901724500315\n",
      "(37,)\n",
      "Loss: 0.350 Accuracy : 0.739257711750748\n",
      "(49,)\n",
      "Loss: 0.337 Accuracy : 0.7535282558208778\n",
      "(51,)\n",
      "Loss: 0.339 Accuracy : 0.7513986645009926\n",
      "i 3\n",
      "(49,)\n",
      "Loss: 0.254 Accuracy : 0.8213145436529781\n",
      "(55,)\n",
      "Loss: 0.343 Accuracy : 0.7456153925513257\n",
      "(73,)\n",
      "Loss: 0.327 Accuracy : 0.7659143690823558\n",
      "(76,)\n",
      "Loss: 0.329 Accuracy : 0.7653853095109187\n",
      "i 4\n",
      "(65,)\n",
      "Loss: 0.251 Accuracy : 0.8233863461211254\n",
      "(73,)\n",
      "Loss: 0.340 Accuracy : 0.7496518105849582\n",
      "(97,)\n",
      "Loss: 0.317 Accuracy : 0.7795510033942714\n",
      "(101,)\n",
      "Loss: 0.320 Accuracy : 0.7745894242916441\n",
      "i 5\n",
      "(81,)\n",
      "Loss: 0.249 Accuracy : 0.8262388277801688\n",
      "(91,)\n",
      "Loss: 0.334 Accuracy : 0.7595816568657794\n",
      "(121,)\n",
      "Loss: 0.308 Accuracy : 0.79086524146966\n",
      "(126,)\n",
      "Loss: 0.315 Accuracy : 0.7805901461829995\n",
      "i 6\n",
      "(97,)\n",
      "Loss: 0.244 Accuracy : 0.8319337823906799\n",
      "(109,)\n",
      "Loss: 0.324 Accuracy : 0.7730062932012792\n",
      "(145,)\n",
      "Loss: 0.291 Accuracy : 0.8078365985827428\n",
      "(151,)\n",
      "Loss: 0.300 Accuracy : 0.7984118390182278\n",
      "i 7\n",
      "(113,)\n",
      "Loss: 0.240 Accuracy : 0.8358171609300091\n",
      "(127,)\n",
      "Loss: 0.313 Accuracy : 0.786237490972867\n",
      "(169,)\n",
      "Loss: 0.277 Accuracy : 0.8196272256297267\n",
      "(176,)\n",
      "Loss: 0.285 Accuracy : 0.8167749503699693\n"
     ]
    }
   ],
   "source": [
    "models = []\n",
    "for i in range(1, 8):\n",
    "    print('i', i)\n",
    "    for train_classes_split, train_data_split in zip(train_classes_jet_num_splits, train_data_jet_num_splits):\n",
    "        data_split = preprocessing(train_data_split, deg=i)\n",
    "        initial_w = np.zeros((data_split.shape[1],))\n",
    "        print(initial_w.shape)\n",
    "        w, loss = ridge_regression(train_classes_split, data_split, 1e-2)\n",
    "        print(f'Loss: {loss:.3f} Accuracy : {compute_accuracy(predict_labels(w, data_split), train_classes_split)}')\n",
    "        # w, loss = reg_logistic_regression(train_classes_split, data_split, 1e-3, initial_w, 5001, 1e-5)\n",
    "        # w, loss = svm(train_classes_split, data_split, 1e-3, initial_w, 10001, 1e-5)#5e-8)\n",
    "        #print(w, loss)\n",
    "        models.append((w, loss))"
   ]
  },
  {
   "cell_type": "code",
   "execution_count": 265,
   "metadata": {},
   "outputs": [],
   "source": [
    "test_classes, test_data, test_ids = load_csv_data(\"data/test.csv\")"
   ]
  },
  {
   "cell_type": "code",
   "execution_count": 287,
   "metadata": {},
   "outputs": [],
   "source": [
    "test_classes_jet_num_splits, test_data_jet_num_splits, test_ids_jet_num_splits = \\\n",
    "    split_data_by_categorical_column(test_classes,\n",
    "                                     test_data,\n",
    "                                     test_ids,\n",
    "                                     PRI_JET_NUM_INDEX)"
   ]
  },
  {
   "cell_type": "code",
   "execution_count": 483,
   "metadata": {},
   "outputs": [
    {
     "name": "stdout",
     "output_type": "stream",
     "text": [
      "(227458,)\n",
      "(227458, 2)\n",
      "(175338,)\n",
      "(175338, 2)\n",
      "(114648,)\n",
      "(114648, 2)\n",
      "(50794,)\n",
      "(50794, 2)\n",
      "(568238, 2)\n"
     ]
    }
   ],
   "source": [
    "results = None\n",
    "for (w, _), (_, deg), test_classes_split, test_data_split, test_ids_split in zip(models, best_hyper, test_classes_jet_num_splits, test_data_jet_num_splits, test_ids_jet_num_splits):\n",
    "    data_split = preprocessing(test_data_split, deg=deg)\n",
    "    pred = predict_labels(w, data_split)\n",
    "    print(pred.shape)\n",
    "    out = np.stack((test_ids_split, pred), axis=-1)\n",
    "    print(out.shape)\n",
    "    results = out if results is None else np.vstack((results, out))\n",
    "    \n",
    "print(results.shape)"
   ]
  },
  {
   "cell_type": "code",
   "execution_count": 484,
   "metadata": {},
   "outputs": [],
   "source": [
    "from helpers import create_csv_submission\n",
    "\n",
    "create_csv_submission(results[:, 0], results[:, 1], 'results3.csv')"
   ]
  },
  {
   "cell_type": "code",
   "execution_count": null,
   "metadata": {},
   "outputs": [],
   "source": []
  }
 ],
 "metadata": {
  "kernelspec": {
   "display_name": "Python [conda env:ada] *",
   "language": "python",
   "name": "conda-env-ada-py"
  },
  "language_info": {
   "codemirror_mode": {
    "name": "ipython",
    "version": 3
   },
   "file_extension": ".py",
   "mimetype": "text/x-python",
   "name": "python",
   "nbconvert_exporter": "python",
   "pygments_lexer": "ipython3",
   "version": "3.7.4"
  }
 },
 "nbformat": 4,
 "nbformat_minor": 4
}
